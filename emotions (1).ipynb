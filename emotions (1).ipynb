{
 "cells": [
  {
   "cell_type": "markdown",
   "id": "9b8d3125",
   "metadata": {},
   "source": [
    "# Emotions Data Exploration and Analysis\n",
    "## Introduction\n",
    "This project aims to explore and analyse the \"Emotions\" dataset, which consists of English Twitter messages annotated with six fundamental emotions. The goal is to understand and analyse the diverse spectrum of emotions expressed in short-form text on social media.\n"
   ]
  },
  {
   "cell_type": "markdown",
   "id": "ede3516d",
   "metadata": {},
   "source": [
    "## 1. Import Libraries\n",
    "To begin, we import the necessary Python libraries that will be used throughout this notebook. These libraries include Pandas for data manipulation, NumPy for numerical operations, Matplotlib and Seaborn for visualization, and IPython's display for enhanced output display.\n"
   ]
  },
  {
   "cell_type": "code",
   "execution_count": 1,
   "id": "0a972f60",
   "metadata": {},
   "outputs": [
    {
     "name": "stderr",
     "output_type": "stream",
     "text": [
      "[nltk_data] Downloading package stopwords to C:\\Users\\Sechaba\n",
      "[nltk_data]     Mohlabeng\\AppData\\Roaming\\nltk_data...\n",
      "[nltk_data]   Package stopwords is already up-to-date!\n",
      "[nltk_data] Downloading package vader_lexicon to C:\\Users\\Sechaba\n",
      "[nltk_data]     Mohlabeng\\AppData\\Roaming\\nltk_data...\n",
      "[nltk_data]   Package vader_lexicon is already up-to-date!\n"
     ]
    },
    {
     "data": {
      "text/plain": [
       "True"
      ]
     },
     "execution_count": 1,
     "metadata": {},
     "output_type": "execute_result"
    }
   ],
   "source": [
    "# Import necessary libraries\n",
    "import pandas as pd\n",
    "import numpy as np\n",
    "import matplotlib.pyplot as plt\n",
    "import seaborn as sns\n",
    "from IPython.display import display\n",
    "import re\n",
    "import nltk\n",
    "from wordcloud import WordCloud\n",
    "# Download necessary NLTK resources\n",
    "nltk.download('stopwords')\n",
    "nltk.download('vader_lexicon')\n",
    "\n",
    "# Additional setup for this notebook (if any)\n"
   ]
  },
  {
   "cell_type": "markdown",
   "id": "116621b5",
   "metadata": {},
   "source": [
    "## 2. Load Dataset\n",
    "Next, we load the dataset from a CSV file into a Pandas DataFrame. This allows us to manipulate and analyze the data effectively."
   ]
  },
  {
   "cell_type": "code",
   "execution_count": 6,
   "id": "49b3679b",
   "metadata": {},
   "outputs": [],
   "source": [
    "df = pd.read_csv('data/emotions.csv')"
   ]
  },
  {
   "cell_type": "markdown",
   "id": "8a16b2e8",
   "metadata": {},
   "source": [
    "## 3. Explore Dataset"
   ]
  },
  {
   "cell_type": "markdown",
   "id": "53af2f66",
   "metadata": {},
   "source": [
    "### 3.1 View First Few Rows\n",
    "\n",
    "To get a sense of the dataset's structure and content, we display the first few rows."
   ]
  },
  {
   "cell_type": "code",
   "execution_count": 17,
   "id": "b410932e",
   "metadata": {},
   "outputs": [
    {
     "data": {
      "text/html": [
       "<div>\n",
       "<style scoped>\n",
       "    .dataframe tbody tr th:only-of-type {\n",
       "        vertical-align: middle;\n",
       "    }\n",
       "\n",
       "    .dataframe tbody tr th {\n",
       "        vertical-align: top;\n",
       "    }\n",
       "\n",
       "    .dataframe thead th {\n",
       "        text-align: right;\n",
       "    }\n",
       "</style>\n",
       "<table border=\"1\" class=\"dataframe\">\n",
       "  <thead>\n",
       "    <tr style=\"text-align: right;\">\n",
       "      <th></th>\n",
       "      <th>Unnamed: 0</th>\n",
       "      <th>text</th>\n",
       "      <th>label</th>\n",
       "    </tr>\n",
       "  </thead>\n",
       "  <tbody>\n",
       "    <tr>\n",
       "      <th>0</th>\n",
       "      <td>0</td>\n",
       "      <td>i just feel really helpless and heavy hearted</td>\n",
       "      <td>4</td>\n",
       "    </tr>\n",
       "    <tr>\n",
       "      <th>1</th>\n",
       "      <td>1</td>\n",
       "      <td>ive enjoyed being able to slouch about relax a...</td>\n",
       "      <td>0</td>\n",
       "    </tr>\n",
       "    <tr>\n",
       "      <th>2</th>\n",
       "      <td>2</td>\n",
       "      <td>i gave up my internship with the dmrg and am f...</td>\n",
       "      <td>4</td>\n",
       "    </tr>\n",
       "    <tr>\n",
       "      <th>3</th>\n",
       "      <td>3</td>\n",
       "      <td>i dont know i feel so lost</td>\n",
       "      <td>0</td>\n",
       "    </tr>\n",
       "    <tr>\n",
       "      <th>4</th>\n",
       "      <td>4</td>\n",
       "      <td>i am a kindergarten teacher and i am thoroughl...</td>\n",
       "      <td>4</td>\n",
       "    </tr>\n",
       "    <tr>\n",
       "      <th>5</th>\n",
       "      <td>5</td>\n",
       "      <td>i was beginning to feel quite disheartened</td>\n",
       "      <td>0</td>\n",
       "    </tr>\n",
       "    <tr>\n",
       "      <th>6</th>\n",
       "      <td>6</td>\n",
       "      <td>i would think that whomever would be lucky eno...</td>\n",
       "      <td>2</td>\n",
       "    </tr>\n",
       "    <tr>\n",
       "      <th>7</th>\n",
       "      <td>7</td>\n",
       "      <td>i fear that they won t ever feel that deliciou...</td>\n",
       "      <td>1</td>\n",
       "    </tr>\n",
       "    <tr>\n",
       "      <th>8</th>\n",
       "      <td>8</td>\n",
       "      <td>im forever taking some time out to have a lie ...</td>\n",
       "      <td>5</td>\n",
       "    </tr>\n",
       "    <tr>\n",
       "      <th>9</th>\n",
       "      <td>9</td>\n",
       "      <td>i can still lose the weight without feeling de...</td>\n",
       "      <td>0</td>\n",
       "    </tr>\n",
       "  </tbody>\n",
       "</table>\n",
       "</div>"
      ],
      "text/plain": [
       "   Unnamed: 0                                               text  label\n",
       "0           0      i just feel really helpless and heavy hearted      4\n",
       "1           1  ive enjoyed being able to slouch about relax a...      0\n",
       "2           2  i gave up my internship with the dmrg and am f...      4\n",
       "3           3                         i dont know i feel so lost      0\n",
       "4           4  i am a kindergarten teacher and i am thoroughl...      4\n",
       "5           5         i was beginning to feel quite disheartened      0\n",
       "6           6  i would think that whomever would be lucky eno...      2\n",
       "7           7  i fear that they won t ever feel that deliciou...      1\n",
       "8           8  im forever taking some time out to have a lie ...      5\n",
       "9           9  i can still lose the weight without feeling de...      0"
      ]
     },
     "metadata": {},
     "output_type": "display_data"
    }
   ],
   "source": [
    "display(df.head(10))"
   ]
  },
  {
   "cell_type": "markdown",
   "id": "47260ddb",
   "metadata": {},
   "source": [
    "### 3.2 Data Information\n",
    "Understanding the dataset's structure, including the number of entries, columns, and types of data, is crucial. Therefore, we display this information as follows:"
   ]
  },
  {
   "cell_type": "code",
   "execution_count": 32,
   "id": "b5050227",
   "metadata": {},
   "outputs": [
    {
     "name": "stdout",
     "output_type": "stream",
     "text": [
      "<class 'pandas.core.frame.DataFrame'>\n",
      "RangeIndex: 416809 entries, 0 to 416808\n",
      "Data columns (total 4 columns):\n",
      " #   Column        Non-Null Count   Dtype \n",
      "---  ------        --------------   ----- \n",
      " 0   Unnamed: 0    416809 non-null  int64 \n",
      " 1   text          416809 non-null  object\n",
      " 2   label         416809 non-null  int64 \n",
      " 3   tweet_length  416809 non-null  int64 \n",
      "dtypes: int64(3), object(1)\n",
      "memory usage: 12.7+ MB\n"
     ]
    },
    {
     "data": {
      "text/plain": [
       "None"
      ]
     },
     "metadata": {},
     "output_type": "display_data"
    }
   ],
   "source": [
    "display(df.info())"
   ]
  },
  {
   "cell_type": "markdown",
   "id": "307fc574",
   "metadata": {},
   "source": [
    "### 3.3 Checking for Missing Values\n",
    "It's important to check for missing or null values in our dataset, as they can significantly impact the analysis and model training process. Identifying and addressing these missing values early on ensures that our data cleaning and preprocessing steps are effective and that our analysis is accurate."
   ]
  },
  {
   "cell_type": "code",
   "execution_count": 29,
   "id": "cf75799a",
   "metadata": {},
   "outputs": [
    {
     "data": {
      "text/html": [
       "<div>\n",
       "<style scoped>\n",
       "    .dataframe tbody tr th:only-of-type {\n",
       "        vertical-align: middle;\n",
       "    }\n",
       "\n",
       "    .dataframe tbody tr th {\n",
       "        vertical-align: top;\n",
       "    }\n",
       "\n",
       "    .dataframe thead th {\n",
       "        text-align: right;\n",
       "    }\n",
       "</style>\n",
       "<table border=\"1\" class=\"dataframe\">\n",
       "  <thead>\n",
       "    <tr style=\"text-align: right;\">\n",
       "      <th></th>\n",
       "      <th>Column</th>\n",
       "      <th>Missing Values</th>\n",
       "      <th>Percentage of Total</th>\n",
       "    </tr>\n",
       "  </thead>\n",
       "  <tbody>\n",
       "    <tr>\n",
       "      <th>0</th>\n",
       "      <td>Unnamed: 0</td>\n",
       "      <td>0</td>\n",
       "      <td>0.0</td>\n",
       "    </tr>\n",
       "    <tr>\n",
       "      <th>1</th>\n",
       "      <td>text</td>\n",
       "      <td>0</td>\n",
       "      <td>0.0</td>\n",
       "    </tr>\n",
       "    <tr>\n",
       "      <th>2</th>\n",
       "      <td>label</td>\n",
       "      <td>0</td>\n",
       "      <td>0.0</td>\n",
       "    </tr>\n",
       "    <tr>\n",
       "      <th>3</th>\n",
       "      <td>tweet_length</td>\n",
       "      <td>0</td>\n",
       "      <td>0.0</td>\n",
       "    </tr>\n",
       "  </tbody>\n",
       "</table>\n",
       "</div>"
      ],
      "text/plain": [
       "         Column  Missing Values  Percentage of Total\n",
       "0    Unnamed: 0               0                  0.0\n",
       "1          text               0                  0.0\n",
       "2         label               0                  0.0\n",
       "3  tweet_length               0                  0.0"
      ]
     },
     "execution_count": 29,
     "metadata": {},
     "output_type": "execute_result"
    }
   ],
   "source": [
    "# Create a DataFrame to display missing values count and percentage\n",
    "missing_values_df = pd.DataFrame({\n",
    "    'Column': df.columns,\n",
    "    'Missing Values': df.isnull().sum(),\n",
    "    'Percentage of Total': (df.isnull().sum() / len(df)) * 100\n",
    "}).reset_index(drop=True)\n",
    "\n",
    "# Display the DataFrame with missing values information\n",
    "missing_values_df"
   ]
  },
  {
   "cell_type": "markdown",
   "id": "24b15b54",
   "metadata": {},
   "source": [
    "### 3.4 Preliminary Data Exploration\n",
    "\n",
    "Before cleaning the data, let's conduct some preliminary exploration to uncover more insights from the dataset. This exploration can help in understanding the distribution of emotions across the tweets, identifying potential outliers, and discovering patterns that might inform our cleaning and analysis strategy."
   ]
  },
  {
   "cell_type": "markdown",
   "id": "ff6cad9c",
   "metadata": {},
   "source": [
    "#### Distribution of Emotions\n",
    "A good starting point is to look at how tweets are distributed across the different emotion categories. This can help identify if the dataset is balanced or if there are categories with significantly more or fewer tweets."
   ]
  },
  {
   "cell_type": "code",
   "execution_count": 21,
   "id": "0f4f231f",
   "metadata": {},
   "outputs": [
    {
     "data": {
      "image/png": "[encoded data removed]",
      "text/plain": [
       "<Figure size 640x480 with 1 Axes>"
      ]
     },
     "metadata": {},
     "output_type": "display_data"
    }
   ],
   "source": [
    "# Plotting the distribution of emotions\n",
    "emotion_counts = df['label'].value_counts()\n",
    "emotion_counts.plot(kind='bar')\n",
    "plt.title('Distribution of Emotions in Tweets')\n",
    "plt.xlabel('Emotion')\n",
    "plt.ylabel('Number of Tweets')\n",
    "plt.xticks(ticks=range(6), labels=['Sadness', 'Joy', 'Love', 'Anger', 'Fear', 'Surprise'], rotation=45)\n",
    "plt.show()"
   ]
  },
  {
   "cell_type": "markdown",
   "id": "57cfa4b5",
   "metadata": {},
   "source": [
    "#### Examining Tweet Lengths\n",
    "Analysing the length of the tweets can provide insights into how the amount of text correlates with the expressed emotions. It might reveal if certain emotions tend to be expressed more succinctly or verbosely."
   ]
  },
  {
   "cell_type": "code",
   "execution_count": 22,
   "id": "40171e48",
   "metadata": {},
   "outputs": [
    {
     "data": {
      "image/png": "[encoded data removed]",
      "text/plain": [
       "<Figure size 640x480 with 1 Axes>"
      ]
     },
     "metadata": {},
     "output_type": "display_data"
    }
   ],
   "source": [
    "# Adding a new column for tweet length\n",
    "df['tweet_length'] = df['text'].apply(len)\n",
    "\n",
    "# Plotting the distribution of tweet lengths\n",
    "sns.histplot(df['tweet_length'], bins=30, kde=True)\n",
    "plt.title('Distribution of Tweet Lengths')\n",
    "plt.xlabel('Length of Tweet')\n",
    "plt.ylabel('Frequency')\n",
    "plt.show()"
   ]
  },
  {
   "cell_type": "markdown",
   "id": "b9358055",
   "metadata": {},
   "source": [
    "## 4: Data Cleaning and Text Preprocessing\n",
    "In this section, we performed several steps to prepare our dataset for exploratory data analysis and modeling. These steps include:\n",
    "\n",
    "1. **Removing Duplicates**: To ensure the uniqueness of each tweet, we removed duplicate entries based on the `text` and `label` columns. This step is crucial to prevent any bias that duplicates might introduce to our analysis or model.\n",
    "\n",
    "2. **Text Preprocessing**: We applied a comprehensive text preprocessing function to each tweet. This function:\n",
    "   - Converts text to lowercase to standardize the case.\n",
    "   - Removes URLs, mentions, and hashtags as these elements do not contribute to our analysis of emotions.\n",
    "   - Eliminates words with two or fewer characters, punctuation, and numbers, focusing on more meaningful content.\n",
    "   - Removes stop words using NLTK's list of English stop words. Stop words are common words that usually do not carry significant meaning and are thus removed.\n",
    "   - Strips extra spaces, leaving only one space between words and no leading or trailing spaces.\n",
    "\n",
    "By the end of this section, we have a cleaned dataset, `df_cleaned`, ready for further analysis. The dataset is now more standardised and focused on content that is potentially more relevant for understanding emotions expressed in tweets.\n",
    "\n",
    "---\n",
    "\n",
    "### 4.1 Remove Duplicate Entries\n",
    "First, lets ensure the dataset contains only unique entries to maintain the integrity of our analysis."
   ]
  },
  {
   "cell_type": "code",
   "execution_count": 34,
   "id": "18d4b64d",
   "metadata": {},
   "outputs": [
    {
     "name": "stdout",
     "output_type": "stream",
     "text": [
      "Shape after removing duplicates: (416123, 4)\n"
     ]
    }
   ],
   "source": [
    "# Remove duplicate rows\n",
    "df_cleaned = df.drop_duplicates(subset=['text', 'label'])\n",
    "print(f\"Shape after removing duplicates: {df_cleaned.shape}\")"
   ]
  },
  {
   "cell_type": "markdown",
   "id": "c0a46134",
   "metadata": {},
   "source": [
    "### 4.2 Text Preprocessing\n",
    "Now, let's clean the text data with the following function. This function will be applied to each tweet to standardize the format and remove unnecessary elements."
   ]
  },
  {
   "cell_type": "code",
   "execution_count": 39,
   "id": "528217e0",
   "metadata": {},
   "outputs": [
    {
     "data": {
      "text/html": [
       "<div>\n",
       "<style scoped>\n",
       "    .dataframe tbody tr th:only-of-type {\n",
       "        vertical-align: middle;\n",
       "    }\n",
       "\n",
       "    .dataframe tbody tr th {\n",
       "        vertical-align: top;\n",
       "    }\n",
       "\n",
       "    .dataframe thead th {\n",
       "        text-align: right;\n",
       "    }\n",
       "</style>\n",
       "<table border=\"1\" class=\"dataframe\">\n",
       "  <thead>\n",
       "    <tr style=\"text-align: right;\">\n",
       "      <th></th>\n",
       "      <th>Unnamed: 0</th>\n",
       "      <th>text</th>\n",
       "      <th>label</th>\n",
       "      <th>tweet_length</th>\n",
       "    </tr>\n",
       "  </thead>\n",
       "  <tbody>\n",
       "    <tr>\n",
       "      <th>0</th>\n",
       "      <td>0</td>\n",
       "      <td>feel really helpless heavy hearted</td>\n",
       "      <td>4</td>\n",
       "      <td>45</td>\n",
       "    </tr>\n",
       "    <tr>\n",
       "      <th>1</th>\n",
       "      <td>1</td>\n",
       "      <td>ive enjoyed able slouch relax unwind frankly n...</td>\n",
       "      <td>0</td>\n",
       "      <td>234</td>\n",
       "    </tr>\n",
       "    <tr>\n",
       "      <th>2</th>\n",
       "      <td>2</td>\n",
       "      <td>gave internship dmrg feeling distraught</td>\n",
       "      <td>4</td>\n",
       "      <td>63</td>\n",
       "    </tr>\n",
       "    <tr>\n",
       "      <th>3</th>\n",
       "      <td>3</td>\n",
       "      <td>dont know feel lost</td>\n",
       "      <td>0</td>\n",
       "      <td>26</td>\n",
       "    </tr>\n",
       "    <tr>\n",
       "      <th>4</th>\n",
       "      <td>4</td>\n",
       "      <td>kindergarten teacher thoroughly weary job take...</td>\n",
       "      <td>4</td>\n",
       "      <td>222</td>\n",
       "    </tr>\n",
       "  </tbody>\n",
       "</table>\n",
       "</div>"
      ],
      "text/plain": [
       "   Unnamed: 0                                               text  label  \\\n",
       "0           0                 feel really helpless heavy hearted      4   \n",
       "1           1  ive enjoyed able slouch relax unwind frankly n...      0   \n",
       "2           2            gave internship dmrg feeling distraught      4   \n",
       "3           3                                dont know feel lost      0   \n",
       "4           4  kindergarten teacher thoroughly weary job take...      4   \n",
       "\n",
       "   tweet_length  \n",
       "0            45  \n",
       "1           234  \n",
       "2            63  \n",
       "3            26  \n",
       "4           222  "
      ]
     },
     "execution_count": 39,
     "metadata": {},
     "output_type": "execute_result"
    }
   ],
   "source": [
    "# Remove duplicate rows and explicitly create a new DataFrame\n",
    "df_cleaned = df.drop_duplicates(subset=['text', 'label']).copy()\n",
    "\n",
    "# Set of English stop words\n",
    "from nltk.corpus import stopwords\n",
    "stop_words = set(stopwords.words('english'))\n",
    "\n",
    "# Define a function to clean text data\n",
    "def clean_text(text):\n",
    "    text = text.lower()  # Lowercase text\n",
    "    text = re.sub(r'http\\S+|www\\S+|https\\S+', '', text, flags=re.MULTILINE)  # Remove URLs\n",
    "    text = re.sub(r'\\@\\w+|\\#', '', text)  # Remove mentions and hashtags\n",
    "    text = re.sub(r'\\b\\w{1,2}\\b', '', text)  # Remove words with 2 or less characters\n",
    "    text = re.sub(r'[^a-zA-Z\\s]', '', text)  # Remove punctuation and numbers\n",
    "    text = ' '.join([word for word in text.split() if word not in stop_words])  # Remove stop words\n",
    "    text = re.sub(r'\\s+', ' ', text).strip()  # Remove extra spaces\n",
    "    return text\n",
    "\n",
    "# Apply the text cleaning function to the 'text' column\n",
    "df_cleaned['text'] = df_cleaned['text'].apply(clean_text)\n",
    "\n",
    "# Display the first few rows of the cleaned dataframe\n",
    "df_cleaned.head()\n"
   ]
  },
  {
   "cell_type": "markdown",
   "id": "e55cd316",
   "metadata": {},
   "source": [
    "## 5. Exploratory Data Analysis (EDA)\n",
    "\n",
    "With our dataset cleaned and preprocessed, we're now ready to move into exploratory data analysis (EDA). EDA will allow us to dive deeper into our dataset, uncovering patterns, trends, and insights about the emotions expressed in tweets. \n",
    "\n",
    "In this section, we will:\n",
    "- Analyse the distribution of emotions across our dataset to see how different emotions are represented.\n",
    "- Explore the length of tweets to understand if the amount of text used varies by emotion.\n",
    "- Conduct word frequency analysis to identify common words across all tweets and within each emotion category, providing insights into the language of emotional expression on Twitter.\n",
    "\n",
    "The goal of EDA is to gain a better understanding of our data's characteristics and to inform our approach to feature engineering and model building in later sections.\n"
   ]
  },
  {
   "cell_type": "markdown",
   "id": "cd36db98",
   "metadata": {},
   "source": [
    "### 5.1 Distribution of Emotions\n",
    "Understanding how emotions are distributed can inform us about the balance of our dataset and potential biases towards certain emotions.\n",
    "\n"
   ]
  },
  {
   "cell_type": "code",
   "execution_count": 51,
   "id": "b735d0bc",
   "metadata": {},
   "outputs": [
    {
     "data": {
      "image/png": "[encoded data removed]",
      "text/plain": [
       "<Figure size 800x800 with 1 Axes>"
      ]
     },
     "metadata": {},
     "output_type": "display_data"
    }
   ],
   "source": [
    "# Calculate the distribution of emotions as percentages\n",
    "emotion_percentages = df_cleaned['label'].value_counts(normalize=True) * 100\n",
    "\n",
    "# Optional: Mapping for emotion labels to descriptive names\n",
    "emotion_mapping = {0: 'Sadness', 1: 'Joy', 2: 'Love', 3: 'Anger', 4: 'Fear', 5: 'Surprise'}\n",
    "emotion_labels = emotion_percentages.index.map(emotion_mapping).tolist()\n",
    "\n",
    "# Create a pie chart\n",
    "plt.figure(figsize=(8, 8))\n",
    "plt.pie(emotion_percentages, labels=emotion_labels, autopct='%1.1f%%', startangle=140)\n",
    "plt.title('Distribution of Emotions in Tweets')\n",
    "plt.show()"
   ]
  },
  {
   "cell_type": "markdown",
   "id": "64072eb9",
   "metadata": {},
   "source": [
    "\n",
    "Earlier, in our preliminary data exploration (Section 3.4), we visualised the distribution of emotions based on the number of tweets for each emotion. This provided us with a clear understanding of the absolute sizes of each category within our dataset.\n",
    "\n",
    "Building on this, we now present the distribution of emotions as percentages of the total dataset. This perspective offers insight into the relative distribution of each emotion, highlighting the balance or imbalance among categories in a more nuanced way.\n",
    "\n",
    "Including both absolute and relative distributions allows us to appreciate not only the scale of data available for each emotion but also how each emotion's representation compares to the others within the context of our entire dataset. This dual view enriches our understanding and sets a solid foundation for the detailed exploratory data analysis to follow.\n"
   ]
  },
  {
   "cell_type": "markdown",
   "id": "55b57418",
   "metadata": {},
   "source": [
    "### 5.2 Tweet Length Analysis\n",
    "Exploring the length of tweets across different emotions can reveal if certain emotions tend to be expressed with more or fewer words."
   ]
  },
  {
   "cell_type": "code",
   "execution_count": 43,
   "id": "a41c710e",
   "metadata": {},
   "outputs": [
    {
     "data": {
      "image/png": "[encoded data removed]",
      "text/plain": [
       "<Figure size 1200x800 with 1 Axes>"
      ]
     },
     "metadata": {},
     "output_type": "display_data"
    }
   ],
   "source": [
    "# Add a new column for tweet length\n",
    "df_cleaned['tweet_length'] = df_cleaned['text'].apply(len)\n",
    "\n",
    "# Visualize the distribution of tweet lengths for each emotion\n",
    "plt.figure(figsize=(12, 8))\n",
    "sns.boxplot(x='label', y='tweet_length', data=df_cleaned.replace({'label': emotion_mapping}))\n",
    "plt.title('Distribution of Tweet Lengths by Emotion')\n",
    "plt.xlabel('Emotion')\n",
    "plt.ylabel('Tweet Length')\n",
    "plt.show()\n"
   ]
  },
  {
   "cell_type": "markdown",
   "id": "b32646f5",
   "metadata": {},
   "source": [
    "### 5.3 Word Frequency Analysis\n",
    "Identifying the most common words used in the tweets, overall and within each emotion category, can provide insights into the language of emotional expression."
   ]
  },
  {
   "cell_type": "code",
   "execution_count": 44,
   "id": "43b209c6",
   "metadata": {},
   "outputs": [
    {
     "data": {
      "image/png": "[encoded data removed]",
      "text/plain": [
       "<Figure size 1200x800 with 1 Axes>"
      ]
     },
     "metadata": {},
     "output_type": "display_data"
    }
   ],
   "source": [
    "from sklearn.feature_extraction.text import CountVectorizer\n",
    "\n",
    "# Initialize the CountVectorizer\n",
    "vectorizer = CountVectorizer(stop_words='english')\n",
    "\n",
    "# Fit and transform the cleaned tweets\n",
    "word_counts = vectorizer.fit_transform(df_cleaned['text'])\n",
    "\n",
    "# Sum word occurrences\n",
    "sum_words = word_counts.sum(axis=0)\n",
    "\n",
    "# Map word indices to actual words\n",
    "words_freq = [(word, sum_words[0, idx]) for word, idx in vectorizer.vocabulary_.items()]\n",
    "words_freq = sorted(words_freq, key=lambda x: x[1], reverse=True)\n",
    "\n",
    "# Display the top 20 words\n",
    "top_words = words_freq[:20]\n",
    "top_words_df = pd.DataFrame(top_words, columns=['Word', 'Frequency'])\n",
    "\n",
    "# Plot\n",
    "plt.figure(figsize=(12, 8))\n",
    "sns.barplot(x='Frequency', y='Word', data=top_words_df, palette='plasma')\n",
    "plt.title('Top 20 Most Common Words')\n",
    "plt.show()\n"
   ]
  },
  {
   "cell_type": "markdown",
   "id": "0a34f973",
   "metadata": {},
   "source": [
    "### 5.4 Sentiment Intensity Analysis with VADER\n",
    "First, you'll need to install and import VADER (Valence Aware Dictionary and sEntiment Reasoner), which is part of the NLTK library."
   ]
  },
  {
   "cell_type": "code",
   "execution_count": 47,
   "id": "a88f692c",
   "metadata": {},
   "outputs": [
    {
     "data": {
      "text/html": [
       "<div>\n",
       "<style scoped>\n",
       "    .dataframe tbody tr th:only-of-type {\n",
       "        vertical-align: middle;\n",
       "    }\n",
       "\n",
       "    .dataframe tbody tr th {\n",
       "        vertical-align: top;\n",
       "    }\n",
       "\n",
       "    .dataframe thead th {\n",
       "        text-align: right;\n",
       "    }\n",
       "</style>\n",
       "<table border=\"1\" class=\"dataframe\">\n",
       "  <thead>\n",
       "    <tr style=\"text-align: right;\">\n",
       "      <th></th>\n",
       "      <th>Unnamed: 0</th>\n",
       "      <th>text</th>\n",
       "      <th>label</th>\n",
       "      <th>tweet_length</th>\n",
       "      <th>sentiment_score</th>\n",
       "    </tr>\n",
       "  </thead>\n",
       "  <tbody>\n",
       "    <tr>\n",
       "      <th>0</th>\n",
       "      <td>0</td>\n",
       "      <td>feel really helpless heavy hearted</td>\n",
       "      <td>4</td>\n",
       "      <td>34</td>\n",
       "      <td>-0.5095</td>\n",
       "    </tr>\n",
       "    <tr>\n",
       "      <th>1</th>\n",
       "      <td>1</td>\n",
       "      <td>ive enjoyed able slouch relax unwind frankly n...</td>\n",
       "      <td>0</td>\n",
       "      <td>147</td>\n",
       "      <td>0.6221</td>\n",
       "    </tr>\n",
       "    <tr>\n",
       "      <th>2</th>\n",
       "      <td>2</td>\n",
       "      <td>gave internship dmrg feeling distraught</td>\n",
       "      <td>4</td>\n",
       "      <td>39</td>\n",
       "      <td>-0.4767</td>\n",
       "    </tr>\n",
       "    <tr>\n",
       "      <th>3</th>\n",
       "      <td>3</td>\n",
       "      <td>dont know feel lost</td>\n",
       "      <td>0</td>\n",
       "      <td>19</td>\n",
       "      <td>0.2411</td>\n",
       "    </tr>\n",
       "    <tr>\n",
       "      <th>4</th>\n",
       "      <td>4</td>\n",
       "      <td>kindergarten teacher thoroughly weary job take...</td>\n",
       "      <td>4</td>\n",
       "      <td>131</td>\n",
       "      <td>-0.7178</td>\n",
       "    </tr>\n",
       "  </tbody>\n",
       "</table>\n",
       "</div>"
      ],
      "text/plain": [
       "   Unnamed: 0                                               text  label  \\\n",
       "0           0                 feel really helpless heavy hearted      4   \n",
       "1           1  ive enjoyed able slouch relax unwind frankly n...      0   \n",
       "2           2            gave internship dmrg feeling distraught      4   \n",
       "3           3                                dont know feel lost      0   \n",
       "4           4  kindergarten teacher thoroughly weary job take...      4   \n",
       "\n",
       "   tweet_length  sentiment_score  \n",
       "0            34          -0.5095  \n",
       "1           147           0.6221  \n",
       "2            39          -0.4767  \n",
       "3            19           0.2411  \n",
       "4           131          -0.7178  "
      ]
     },
     "execution_count": 47,
     "metadata": {},
     "output_type": "execute_result"
    }
   ],
   "source": [
    "# Import VADER's SentimentIntensityAnalyzer\n",
    "from nltk.sentiment import SentimentIntensityAnalyzer\n",
    "\n",
    "# Initialize the VADER sentiment intensity analyzer\n",
    "sia = SentimentIntensityAnalyzer()\n",
    "\n",
    "# Function to get compound sentiment score\n",
    "def get_sentiment_score(tweet):\n",
    "    return sia.polarity_scores(tweet)[\"compound\"]\n",
    "\n",
    "# Apply the function to get sentiment score for each tweet\n",
    "df_cleaned['sentiment_score'] = df_cleaned['text'].apply(get_sentiment_score)\n",
    "\n",
    "# View the first few rows to confirm the sentiment scores are added\n",
    "df_cleaned.head()"
   ]
  },
  {
   "cell_type": "markdown",
   "id": "477e3f09",
   "metadata": {},
   "source": [
    "### Sentiment Scores Explanation\n",
    "\n",
    "In our sentiment analysis using VADER (Valence Aware Dictionary and sEntiment Reasoner), each tweet is assigned a sentiment score that ranges from -1 to 1:\n",
    "\n",
    "- **Negative Sentiment**: Scores less than 0 indicate a negative sentiment.\n",
    "- **Neutral Sentiment**: A score of 0 indicates a neutral sentiment.\n",
    "- **Positive Sentiment**: Scores greater than 0 indicate a positive sentiment.\n",
    "\n",
    "These scores help us understand the overall sentiment expressed in each tweet. By comparing these scores across different emotions, we can gain insights into the general sentiment (positive, neutral, or negative) associated with each emotional category.\n"
   ]
  },
  {
   "cell_type": "markdown",
   "id": "d6b25c3b",
   "metadata": {},
   "source": [
    "## 6. Database Integration and SQL Analysis\n",
    "\n",
    "Having completed our data cleaning and exploratory data analysis, we now transition into integrating our dataset with a database and conducting analysis through SQL queries. This section outlines the process of exporting our cleaned data to a CSV file, setting up a SQLite database, importing our data into this database, and utilising SQL queries for further data exploration. This step marks our venture into data engineering, showcasing our ability to work across different data platforms and demonstrating essential SQL skills.\n",
    "\n",
    "### 6.1 Exporting Cleaned Data to CSV\n"
   ]
  },
  {
   "cell_type": "code",
   "execution_count": 55,
   "id": "c86b782d",
   "metadata": {},
   "outputs": [],
   "source": [
    "# Export the cleaned DataFrame to a CSV file with an updated name\n",
    "df_cleaned.to_csv('C:\\\\Users\\\\Sechaba Mohlabeng\\\\Downloads\\\\emotions dataset\\\\cleaned_emotions.csv', index=False)"
   ]
  },
  {
   "cell_type": "markdown",
   "id": "2a4033cb",
   "metadata": {},
   "source": [
    "### 6.2 Setting Up a SQLite Database Using DB Browser\n",
    "\n",
    "To facilitate the integration of our cleaned dataset into a SQL environment for further analysis, we've chosen to use DB Browser for SQLite, a graphical database management tool. This decision leverages the convenience and user-friendly interface of DB Browser, allowing us to visually manage the database without writing SQL commands for setup tasks.\n",
    "\n",
    "#### Steps Taken:\n",
    "\n",
    "1. **DB Browser Installation**: Already installed on my local machine, DB Browser for SQLite provides a robust platform for database creation, schema design, and data manipulation.\n",
    "\n",
    "2. **Creating a New Database**:\n",
    "    - Launched DB Browser and selected \"New Database\".\n",
    "    - Named the database `emotionstweets.db` and saved it in a project-specific directory. This creates a new, empty database ready for data import.\n",
    "\n",
    "3. **Preparation for Data Import**: At this stage, no tables were manually created in the database. The table structure will be automatically defined during the import of our `cleaned_emotions.csv` file to ensure alignment with our dataset's schema.\n",
    "\n",
    "#### Rationale:\n",
    "\n",
    "This approach not only simplifies the database setup process but also provides an intuitive platform for conducting SQL queries and visualizing the database structure. By using DB Browser for SQLite, we can efficiently manage our database and prepare it for the subsequent import of cleaned data, setting the stage for detailed SQL-based data analysis.\n",
    "\n",
    "---\n",
    "\n",
    "In the following section, we will proceed with importing our cleaned dataset into the newly created `emotionstweets.db`, utilizing DB Browser's import functionality to seamlessly transition our data into the SQL environment.\n"
   ]
  },
  {
   "cell_type": "markdown",
   "id": "9cca7982",
   "metadata": {},
   "source": [
    "### 6.3 Connecting to the Database\n",
    "\n",
    "Before we can run any SQL queries to analyze our data, we need to establish a connection to our `emotionstweets.db` database. This can be achieved using DB Browser for SQLite for a graphical interface or programmatically through Python for those who prefer a coding approach.\n",
    "\n",
    "#### Required Imports and Extension Loading"
   ]
  },
  {
   "cell_type": "code",
   "execution_count": 1,
   "id": "cf909c37",
   "metadata": {},
   "outputs": [],
   "source": [
    "# Required imports\n",
    "import sqlalchemy\n",
    "\n",
    "# Load the SQL extension for Jupyter notebooks\n",
    "%load_ext sql\n"
   ]
  },
  {
   "cell_type": "markdown",
   "id": "d5ab2bb6",
   "metadata": {},
   "source": [
    "#### Establishing Database Connection\n",
    "\n",
    "Using the `%sql` magic command, we connect to our SQLite database."
   ]
  },
  {
   "cell_type": "code",
   "execution_count": 2,
   "id": "c684a0b4",
   "metadata": {},
   "outputs": [],
   "source": [
    "%sql sqlite:///emotionstweets.db"
   ]
  },
  {
   "cell_type": "markdown",
   "id": "0980b00e-785a-4732-8076-008b7c0d903f",
   "metadata": {},
   "source": [
    "### 6.4 Preparing the Database for Analysis\n",
    "Before diving into specific SQL queries to analyze our dataset, we'll make two key adjustments to our database:\n",
    "\n",
    "**a. Update Emotion Labels**: Convert numerical emotion labels to their word-based descriptions directly within the database. This change will enhance the readability of our analysis and make our results more accessible."
   ]
  },
  {
   "cell_type": "code",
   "execution_count": 4,
   "id": "f2130817-edb6-415a-8245-270ee8fa7121",
   "metadata": {},
   "outputs": [
    {
     "name": "stdout",
     "output_type": "stream",
     "text": [
      " * sqlite:///emotionstweets.db\n",
      "416123 rows affected.\n"
     ]
    },
    {
     "data": {
      "text/plain": [
       "[]"
      ]
     },
     "execution_count": 4,
     "metadata": {},
     "output_type": "execute_result"
    }
   ],
   "source": [
    "%%sql\n",
    "UPDATE cleaned_emotions\n",
    "SET label = \n",
    "    CASE\n",
    "        WHEN label = 0 THEN 'Sadness'\n",
    "        WHEN label = 1 THEN 'Joy'\n",
    "        WHEN label = 2 THEN 'Love'\n",
    "        WHEN label = 3 THEN 'Anger'\n",
    "        WHEN label = 4 THEN 'Fear'\n",
    "        WHEN label = 5 THEN 'Surprise'\n",
    "    END;"
   ]
  },
  {
   "cell_type": "markdown",
   "id": "bf8a4999-d7f2-4aad-8a33-3c7e662a35cb",
   "metadata": {},
   "source": [
    "**b. Rename Table**: Change our table name from cleaned_emotions to tweets for simplicity and clarity moving forward."
   ]
  },
  {
   "cell_type": "code",
   "execution_count": 6,
   "id": "4d12c68c-e1f6-4dd4-82d7-207303b26d1e",
   "metadata": {},
   "outputs": [
    {
     "name": "stdout",
     "output_type": "stream",
     "text": [
      " * sqlite:///emotionstweets.db\n",
      "Done.\n"
     ]
    },
    {
     "data": {
      "text/plain": [
       "[]"
      ]
     },
     "execution_count": 6,
     "metadata": {},
     "output_type": "execute_result"
    }
   ],
   "source": [
    "%%sql\n",
    "ALTER TABLE cleaned_emotions RENAME TO tweets;"
   ]
  },
  {
   "cell_type": "markdown",
   "id": "5d304bce-b12a-4eec-9e1f-95d291eca2cf",
   "metadata": {},
   "source": [
    "### 6.5 Running Analysis Queries\n",
    "With these adjustments, our database is now better prepared for our analysis. The table tweets contains descriptive labels for emotions, making our subsequent queries more intuitive.\n",
    "\n",
    "Example Queries\n",
    "Now, let's proceed with our analysis by running some example queries on the tweets table:"
   ]
  },
  {
   "cell_type": "markdown",
   "id": "2ae9bd3a-9259-487b-9c62-634786ce4eb8",
   "metadata": {},
   "source": [
    "1. Quantify the Distribution of Emotions:"
   ]
  },
  {
   "cell_type": "code",
   "execution_count": 7,
   "id": "d0e161dc-a2d7-41d7-a135-0224b2786a29",
   "metadata": {},
   "outputs": [
    {
     "name": "stdout",
     "output_type": "stream",
     "text": [
      " * sqlite:///emotionstweets.db\n",
      "Done.\n"
     ]
    },
    {
     "data": {
      "text/html": [
       "<table>\n",
       "    <thead>\n",
       "        <tr>\n",
       "            <th>label</th>\n",
       "            <th>total_tweets</th>\n",
       "        </tr>\n",
       "    </thead>\n",
       "    <tbody>\n",
       "        <tr>\n",
       "            <td>Joy</td>\n",
       "            <td>140779</td>\n",
       "        </tr>\n",
       "        <tr>\n",
       "            <td>Sadness</td>\n",
       "            <td>120989</td>\n",
       "        </tr>\n",
       "        <tr>\n",
       "            <td>Anger</td>\n",
       "            <td>57235</td>\n",
       "        </tr>\n",
       "        <tr>\n",
       "            <td>Fear</td>\n",
       "            <td>47664</td>\n",
       "        </tr>\n",
       "        <tr>\n",
       "            <td>Love</td>\n",
       "            <td>34497</td>\n",
       "        </tr>\n",
       "        <tr>\n",
       "            <td>Surprise</td>\n",
       "            <td>14959</td>\n",
       "        </tr>\n",
       "    </tbody>\n",
       "</table>"
      ],
      "text/plain": [
       "[('Joy', 140779),\n",
       " ('Sadness', 120989),\n",
       " ('Anger', 57235),\n",
       " ('Fear', 47664),\n",
       " ('Love', 34497),\n",
       " ('Surprise', 14959)]"
      ]
     },
     "execution_count": 7,
     "metadata": {},
     "output_type": "execute_result"
    }
   ],
   "source": [
    "%%sql\n",
    "SELECT label, COUNT(*) as total_tweets\n",
    "FROM tweets\n",
    "GROUP BY label\n",
    "ORDER BY total_tweets DESC;"
   ]
  },
  {
   "cell_type": "markdown",
   "id": "fb1aead3-4efc-411f-b513-5f0334a03e38",
   "metadata": {},
   "source": [
    "2. Average Tweet Length by Emotion:"
   ]
  },
  {
   "cell_type": "code",
   "execution_count": 9,
   "id": "35f9892f-360c-4930-b470-0f55dd728a7c",
   "metadata": {},
   "outputs": [
    {
     "name": "stdout",
     "output_type": "stream",
     "text": [
      " * sqlite:///emotionstweets.db\n",
      "Done.\n"
     ]
    },
    {
     "data": {
      "text/html": [
       "<table>\n",
       "    <thead>\n",
       "        <tr>\n",
       "            <th>label</th>\n",
       "            <th>average_length</th>\n",
       "        </tr>\n",
       "    </thead>\n",
       "    <tbody>\n",
       "        <tr>\n",
       "            <td>Love</td>\n",
       "            <td>65.0</td>\n",
       "        </tr>\n",
       "        <tr>\n",
       "            <td>Surprise</td>\n",
       "            <td>63.0</td>\n",
       "        </tr>\n",
       "        <tr>\n",
       "            <td>Joy</td>\n",
       "            <td>62.0</td>\n",
       "        </tr>\n",
       "        <tr>\n",
       "            <td>Fear</td>\n",
       "            <td>61.0</td>\n",
       "        </tr>\n",
       "        <tr>\n",
       "            <td>Anger</td>\n",
       "            <td>60.0</td>\n",
       "        </tr>\n",
       "        <tr>\n",
       "            <td>Sadness</td>\n",
       "            <td>59.0</td>\n",
       "        </tr>\n",
       "    </tbody>\n",
       "</table>"
      ],
      "text/plain": [
       "[('Love', 65.0),\n",
       " ('Surprise', 63.0),\n",
       " ('Joy', 62.0),\n",
       " ('Fear', 61.0),\n",
       " ('Anger', 60.0),\n",
       " ('Sadness', 59.0)]"
      ]
     },
     "execution_count": 9,
     "metadata": {},
     "output_type": "execute_result"
    }
   ],
   "source": [
    "%%sql\n",
    "SELECT label, ROUND(AVG(LENGTH(text))) as average_length\n",
    "FROM tweets\n",
    "GROUP BY label\n",
    "ORDER BY average_length DESC;"
   ]
  },
  {
   "cell_type": "code",
   "execution_count": null,
   "id": "49784f32-1a96-4a9d-a104-ee4536664d24",
   "metadata": {},
   "outputs": [],
   "source": []
  }
 ],
 "metadata": {
  "kernelspec": {
   "display_name": "Python 3 (ipykernel)",
   "language": "python",
   "name": "python3"
  },
  "language_info": {
   "codemirror_mode": {
    "name": "ipython",
    "version": 3
   },
   "file_extension": ".py",
   "mimetype": "text/x-python",
   "name": "python",
   "nbconvert_exporter": "python",
   "pygments_lexer": "ipython3",
   "version": "3.11.5"
  }
 },
 "nbformat": 4,
 "nbformat_minor": 5
}
